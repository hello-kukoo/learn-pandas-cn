{
 "cells": [
  {
   "cell_type": "markdown",
   "metadata": {},
   "source": [
    "<!-- ---------------------------------------------------- -->\n",
    "  <div class=\"col-sm-3 col-md-3 col-lg-3\">\n",
    "\t<!-- logo -->  \n",
    "    <div class=\"img-responsive\">\n",
    "      <img src=\"https://www.dropbox.com/s/220ncn0o5danuey/pandas-ipython-tutorials-hedaro.jpg?dl=1\" title=\"Pandas Tutorial | Hedaro\" alt=\"Pandas Tutorial | Hedaro\">    \n",
    "    </div>\n",
    "\t<!-- logo -->\t\n",
    "  </div>\n",
    "<!-- ---------------------------------------------------- --> \n",
    "  <div class=\"col-sm-6 col-md-6 col-lg-6\">\n",
    "\t<!-- Pandas Tutorial -->  \n",
    "\t  <center>\n",
    "\t    <br>\n",
    "        <h1>Lesson 11</h1>\n",
    "        <br>\n",
    "        <br>\n",
    "        <strong>These tutorials are also available through an email course, please visit </strong><a href=\"http://www.hedaro.com/pandas-tutorial\" target=\"_blank\"><strong>http://www.hedaro.com/pandas-tutorial</strong></a> <strong>to sign up today.</strong>\n",
    "\t  </center>\t\n",
    "    <!-- Pandas Tutorial -->\t\n",
    "  </div>\n",
    "<!-- ---------------------------------------------------- -->"
   ]
  },
  {
   "cell_type": "markdown",
   "metadata": {},
   "source": [
    "> Grab data from multiple excel files and merge them into a single dataframe."
   ]
  },
  {
   "cell_type": "code",
   "execution_count": 1,
   "metadata": {
    "collapsed": false
   },
   "outputs": [],
   "source": [
    "import pandas as pd\n",
    "import matplotlib\n",
    "import os\n",
    "import sys\n",
    "%matplotlib inline"
   ]
  },
  {
   "cell_type": "code",
   "execution_count": 2,
   "metadata": {
    "collapsed": false
   },
   "outputs": [
    {
     "name": "stdout",
     "output_type": "stream",
     "text": [
      "Python version 3.5.1 |Anaconda custom (64-bit)| (default, Feb 16 2016, 09:49:46) [MSC v.1900 64 bit (AMD64)]\n",
      "Pandas version 0.19.2\n",
      "Matplotlib version 1.5.1\n"
     ]
    }
   ],
   "source": [
    "print('Python version ' + sys.version)\n",
    "print('Pandas version ' + pd.__version__)\n",
    "print('Matplotlib version ' + matplotlib.__version__)"
   ]
  },
  {
   "cell_type": "markdown",
   "metadata": {},
   "source": [
    "# Create 3 excel files"
   ]
  },
  {
   "cell_type": "code",
   "execution_count": 3,
   "metadata": {
    "collapsed": false
   },
   "outputs": [
    {
     "data": {
      "text/html": [
       "<div>\n",
       "<table border=\"1\" class=\"dataframe\">\n",
       "  <thead>\n",
       "    <tr style=\"text-align: right;\">\n",
       "      <th></th>\n",
       "      <th>Channel</th>\n",
       "      <th>Number</th>\n",
       "    </tr>\n",
       "  </thead>\n",
       "  <tbody>\n",
       "    <tr>\n",
       "      <th>0</th>\n",
       "      <td>1</td>\n",
       "      <td>255</td>\n",
       "    </tr>\n",
       "  </tbody>\n",
       "</table>\n",
       "</div>"
      ],
      "text/plain": [
       "   Channel  Number\n",
       "0        1     255"
      ]
     },
     "execution_count": 3,
     "metadata": {},
     "output_type": "execute_result"
    }
   ],
   "source": [
    "# Create DataFrame\n",
    "d = {'Channel':[1], 'Number':[255]}\n",
    "df = pd.DataFrame(d)\n",
    "df"
   ]
  },
  {
   "cell_type": "code",
   "execution_count": 4,
   "metadata": {
    "collapsed": false
   },
   "outputs": [
    {
     "name": "stdout",
     "output_type": "stream",
     "text": [
      "Done\n"
     ]
    }
   ],
   "source": [
    "# Export to Excel\n",
    "\n",
    "df.to_excel('test1.xlsx', sheet_name = 'test1', index = False)\n",
    "df.to_excel('test2.xlsx', sheet_name = 'test2', index = False)\n",
    "df.to_excel('test3.xlsx', sheet_name = 'test3', index = False)\n",
    "print('Done')"
   ]
  },
  {
   "cell_type": "markdown",
   "metadata": {},
   "source": [
    "# Place all three Excel files into a DataFrame"
   ]
  },
  {
   "cell_type": "markdown",
   "metadata": {},
   "source": [
    "Get a list of file names but make sure there are no other excel files present in the folder."
   ]
  },
  {
   "cell_type": "code",
   "execution_count": 5,
   "metadata": {
    "collapsed": false
   },
   "outputs": [
    {
     "data": {
      "text/plain": [
       "['test1.xlsx', 'test2.xlsx', 'test3.xlsx']"
      ]
     },
     "execution_count": 5,
     "metadata": {},
     "output_type": "execute_result"
    }
   ],
   "source": [
    "# List to hold file names\n",
    "FileNames = []\n",
    "\n",
    "# Your path will be different, please modify the path below.\n",
    "os.chdir(r\"C:\\Users\\david\\notebooks\\update\")\n",
    "\n",
    "# Find any file that ends with \".xlsx\"\n",
    "for files in os.listdir(\".\"):\n",
    "    if files.endswith(\".xlsx\"):\n",
    "        FileNames.append(files)\n",
    "        \n",
    "FileNames"
   ]
  },
  {
   "cell_type": "markdown",
   "metadata": {},
   "source": [
    "Create a function to process all of the excel files."
   ]
  },
  {
   "cell_type": "code",
   "execution_count": 6,
   "metadata": {
    "collapsed": false
   },
   "outputs": [],
   "source": [
    "def GetFile(fnombre):\n",
    "\n",
    "    # Path to excel file\n",
    "    # Your path will be different, please modify the path below.\n",
    "    location = r'C:\\Users\\david\\notebooks\\update\\\\' + fnombre\n",
    "    \n",
    "    # Parse the excel file\n",
    "    # 0 = first sheet\n",
    "    df = pd.read_excel(location, 0)\n",
    "    \n",
    "    # Tag record to file name\n",
    "    df['File'] = fnombre\n",
    "    \n",
    "    # Make the \"File\" column the index of the df\n",
    "    return df.set_index(['File'])"
   ]
  },
  {
   "cell_type": "markdown",
   "metadata": {},
   "source": [
    "Go through each file name, create a dataframe, and add it to a list.  \n",
    "\n",
    "i.e.  \n",
    "df_list = [df, df, df]"
   ]
  },
  {
   "cell_type": "code",
   "execution_count": 7,
   "metadata": {
    "collapsed": false
   },
   "outputs": [
    {
     "data": {
      "text/plain": [
       "[            Channel  Number\n",
       " File                       \n",
       " test1.xlsx        1     255,             Channel  Number\n",
       " File                       \n",
       " test2.xlsx        1     255,             Channel  Number\n",
       " File                       \n",
       " test3.xlsx        1     255]"
      ]
     },
     "execution_count": 7,
     "metadata": {},
     "output_type": "execute_result"
    }
   ],
   "source": [
    "# Create a list of dataframes\n",
    "df_list = [GetFile(fname) for fname in FileNames]\n",
    "df_list"
   ]
  },
  {
   "cell_type": "code",
   "execution_count": 8,
   "metadata": {
    "collapsed": false
   },
   "outputs": [
    {
     "data": {
      "text/html": [
       "<div>\n",
       "<table border=\"1\" class=\"dataframe\">\n",
       "  <thead>\n",
       "    <tr style=\"text-align: right;\">\n",
       "      <th></th>\n",
       "      <th>Channel</th>\n",
       "      <th>Number</th>\n",
       "    </tr>\n",
       "    <tr>\n",
       "      <th>File</th>\n",
       "      <th></th>\n",
       "      <th></th>\n",
       "    </tr>\n",
       "  </thead>\n",
       "  <tbody>\n",
       "    <tr>\n",
       "      <th>test1.xlsx</th>\n",
       "      <td>1</td>\n",
       "      <td>255</td>\n",
       "    </tr>\n",
       "    <tr>\n",
       "      <th>test2.xlsx</th>\n",
       "      <td>1</td>\n",
       "      <td>255</td>\n",
       "    </tr>\n",
       "    <tr>\n",
       "      <th>test3.xlsx</th>\n",
       "      <td>1</td>\n",
       "      <td>255</td>\n",
       "    </tr>\n",
       "  </tbody>\n",
       "</table>\n",
       "</div>"
      ],
      "text/plain": [
       "            Channel  Number\n",
       "File                       \n",
       "test1.xlsx        1     255\n",
       "test2.xlsx        1     255\n",
       "test3.xlsx        1     255"
      ]
     },
     "execution_count": 8,
     "metadata": {},
     "output_type": "execute_result"
    }
   ],
   "source": [
    "# Combine all of the dataframes into one\n",
    "big_df = pd.concat(df_list)\n",
    "big_df"
   ]
  },
  {
   "cell_type": "code",
   "execution_count": 9,
   "metadata": {
    "collapsed": false
   },
   "outputs": [
    {
     "data": {
      "text/plain": [
       "Channel    int64\n",
       "Number     int64\n",
       "dtype: object"
      ]
     },
     "execution_count": 9,
     "metadata": {},
     "output_type": "execute_result"
    }
   ],
   "source": [
    "big_df.dtypes"
   ]
  },
  {
   "cell_type": "code",
   "execution_count": 10,
   "metadata": {
    "collapsed": false
   },
   "outputs": [
    {
     "data": {
      "image/png": "[encoded data removed]",
      "text/plain": [
       "<matplotlib.figure.Figure at 0x8c1c978>"
      ]
     },
     "metadata": {},
     "output_type": "display_data"
    }
   ],
   "source": [
    "# Plot it!\n",
    "big_df['Channel'].plot.bar();"
   ]
  },
  {
   "cell_type": "markdown",
   "metadata": {},
   "source": [
    "<p class=\"text-muted\">This tutorial was created by <a href=\"http://www.hedaro.com\" target=\"_blank\"><strong>HEDARO</strong></a></p>"
   ]
  }
 ],
 "metadata": {
  "anaconda-cloud": {},
  "kernelspec": {
   "display_name": "Python [default]",
   "language": "python",
   "name": "python3"
  },
  "language_info": {
   "codemirror_mode": {
    "name": "ipython",
    "version": 3
   },
   "file_extension": ".py",
   "mimetype": "text/x-python",
   "name": "python",
   "nbconvert_exporter": "python",
   "pygments_lexer": "ipython3",
   "version": "3.5.1"
  }
 },
 "nbformat": 4,
 "nbformat_minor": 0
}
