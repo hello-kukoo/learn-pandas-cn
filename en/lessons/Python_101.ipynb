{
 "metadata": {
  "name": ""
 },
 "nbformat": 3,
 "nbformat_minor": 0,
 "worksheets": [
  {
   "cells": [
    {
     "cell_type": "heading",
     "level": 1,
     "metadata": {},
     "source": [
      "Python 101"
     ]
    },
    {
     "cell_type": "heading",
     "level": 3,
     "metadata": {},
     "source": [
      "Importing Packages"
     ]
    },
    {
     "cell_type": "code",
     "collapsed": false,
     "input": [
      "from numpy import *\n",
      "from pandas import *\n",
      "\n",
      "#using import * brings ALL the packages classes and functions into the name space,\n",
      "#for large packages you can bring in only some parts by doing from [name] import [class/object]\n",
      "#to avoid name space conflicts you can also rename what you import\n",
      "\n",
      "#import pandas and rename it\n",
      "import pandas as pd\n",
      "#import the Series and dataframe classes\n",
      "from pandas import Series, DataFrame\n",
      "\n",
      "#common naming conventions. numpy is np, pandas pd, and matplotlib is plt\n",
      "import numpy as np\n",
      "import pandas as pd\n",
      "import matplotlib.pyplot as plt"
     ],
     "language": "python",
     "metadata": {},
     "outputs": []
    },
    {
     "cell_type": "heading",
     "level": 3,
     "metadata": {},
     "source": [
      "Declaring Variables"
     ]
    },
    {
     "cell_type": "code",
     "collapsed": false,
     "input": [
      "#no data types need to be associated with variables\n",
      "#all variables are \"Objects\" in python. \n",
      "\n",
      "num = 5\n",
      "alpha = 'hello world'\n",
      "mixed = str(num) + ' ' + alpha\n",
      "\n",
      "print num\n",
      "print alpha\n",
      "print mixed"
     ],
     "language": "python",
     "metadata": {},
     "outputs": []
    },
    {
     "cell_type": "heading",
     "level": 2,
     "metadata": {},
     "source": [
      "Lists"
     ]
    },
    {
     "cell_type": "heading",
     "level": 3,
     "metadata": {},
     "source": [
      "Creating"
     ]
    },
    {
     "cell_type": "code",
     "collapsed": false,
     "input": [
      "#this is a list\n",
      "a=[0,1,2,3,4,5,6,7,8,9]\n",
      "a"
     ],
     "language": "python",
     "metadata": {},
     "outputs": []
    },
    {
     "cell_type": "heading",
     "level": 3,
     "metadata": {},
     "source": [
      "Slice and Dice"
     ]
    },
    {
     "cell_type": "code",
     "collapsed": false,
     "input": [
      "#use [x] to access the item at location x in the list\n",
      "#all lists start at 0\n",
      "print 'first item', a[0]\n",
      "\n",
      "#you can also index from back by using -1 for last, -2 for \"second from last\" etc\n",
      "print 'last item', a[-1]\n",
      "\n",
      "#you can \"slice\" a list using : and ::\n",
      "print 'first three items', a[:3]\n",
      "print 'last three items', a[-3:]\n",
      "print 'start at the 4th item', a[3:]\n",
      "print 'the odd items', a[::2]"
     ],
     "language": "python",
     "metadata": {},
     "outputs": []
    },
    {
     "cell_type": "code",
     "collapsed": false,
     "input": [
      "#all lists have a length, use len(list_name) to get the number of items in it\n",
      "#mathematical functions can also, in general, be applied to lists if they contain numbers\n",
      "print 'length of list', len(a)\n",
      "print 'largets number in list', max(a)\n",
      "print 'smallest number', min(a)\n",
      "print 'average', mean(a)\n",
      "\n",
      "#we can find the index of the max and min using argmax() and argmin()\n",
      "print 'the largest number in the list is', max(a), 'and is found at index:', argmax(a)"
     ],
     "language": "python",
     "metadata": {},
     "outputs": []
    },
    {
     "cell_type": "heading",
     "level": 3,
     "metadata": {},
     "source": [
      "Add Items"
     ]
    },
    {
     "cell_type": "code",
     "collapsed": false,
     "input": [
      "#items can be added to a list by using list_name.append(item)\n",
      "\n",
      "#add 3 to the list\n",
      "a.append(3)\n",
      "#add 4\n",
      "a.append(4)\n",
      "a"
     ],
     "language": "python",
     "metadata": {},
     "outputs": []
    },
    {
     "cell_type": "code",
     "collapsed": false,
     "input": [
      "#finally, we can de dupe a list by using the unique function\n",
      "#we can also sort a list using sort(list_name)\n",
      "\n",
      "print 'sorted list', sort(a)\n",
      "print 'select distinct values', unique(a)"
     ],
     "language": "python",
     "metadata": {},
     "outputs": []
    },
    {
     "cell_type": "heading",
     "level": 3,
     "metadata": {},
     "source": [
      "Remove Items"
     ]
    },
    {
     "cell_type": "code",
     "collapsed": false,
     "input": [
      "#items can be removed from the list using list_name.remove(item)\n",
      "\n",
      "#remove 3 from the list\n",
      "a.remove(3)\n",
      "#remove 4\n",
      "a.remove(4)\n",
      "a"
     ],
     "language": "python",
     "metadata": {},
     "outputs": []
    },
    {
     "cell_type": "heading",
     "level": 3,
     "metadata": {},
     "source": [
      "Itterators"
     ]
    },
    {
     "cell_type": "code",
     "collapsed": false,
     "input": [
      "#we can itterate over n items using a for loop\n",
      "\n",
      "#a shortcut for making the list [0,...,n-1] is the function range(n)\n",
      "\n",
      "#print the numbers 0 -4\n",
      "for i in range(5):\n",
      "    print i"
     ],
     "language": "python",
     "metadata": {},
     "outputs": []
    },
    {
     "cell_type": "code",
     "collapsed": false,
     "input": [
      "#print the numbers 0 -4\n",
      "for i in range(0,5):\n",
      "    print i"
     ],
     "language": "python",
     "metadata": {},
     "outputs": []
    },
    {
     "cell_type": "code",
     "collapsed": false,
     "input": [
      "#print the a list\n",
      "for i in a:\n",
      "    print i"
     ],
     "language": "python",
     "metadata": {},
     "outputs": []
    },
    {
     "cell_type": "code",
     "collapsed": false,
     "input": [
      "#itterating over something and appending is a common way of building lists\n",
      "\n",
      "#create array\n",
      "output=[]\n",
      "\n",
      "#build the list holding the first 4 squares by using a for loop\n",
      "for i in range(5):\n",
      "    output.append(i**2) #**2 operator means squared\n",
      "output"
     ],
     "language": "python",
     "metadata": {},
     "outputs": []
    },
    {
     "cell_type": "code",
     "collapsed": false,
     "input": [
      "#this works but is slow, a faster way to do this is to use list comprehension\n",
      "\n",
      "output2=[i**2 for i in range(5)]\n",
      "output2"
     ],
     "language": "python",
     "metadata": {},
     "outputs": []
    },
    {
     "cell_type": "code",
     "collapsed": false,
     "input": [
      "#we can also put conditions in the list comprehension\n",
      "\n",
      "#build the first 10 squares for all the even numbers\n",
      "output3=[i**2 for i in range(10) if i%2==0] # % is means modulus (remainder)\n",
      "output3"
     ],
     "language": "python",
     "metadata": {},
     "outputs": []
    },
    {
     "cell_type": "code",
     "collapsed": false,
     "input": [
      "#the zip command lines up two lists together\n",
      "\n",
      "L1=[1,2,3]\n",
      "L2=['x','y','z']\n",
      "\n",
      "#the output is a list of tuples\n",
      "print zip(L1,L2)"
     ],
     "language": "python",
     "metadata": {},
     "outputs": []
    },
    {
     "cell_type": "code",
     "collapsed": false,
     "input": [
      "#if they are of different size, it gets chopped off\n",
      "\n",
      "L1=[1,2,3,4]\n",
      "L2=['x','y','z']\n",
      "\n",
      "#the output is a list of tuples\n",
      "print zip(L1,L2)"
     ],
     "language": "python",
     "metadata": {},
     "outputs": []
    },
    {
     "cell_type": "code",
     "collapsed": false,
     "input": [
      "#it is very common to itterate over lists using zip\n",
      "\n",
      "for list1,list2 in zip(L1,L2):\n",
      "    print list1,list2"
     ],
     "language": "python",
     "metadata": {},
     "outputs": []
    },
    {
     "cell_type": "code",
     "collapsed": false,
     "input": [
      "#this can also be done with list comprehension\n",
      "print [(x,y) for x,y in zip(L1,L2)]\n",
      "\n",
      "#we can also make more complex lists\n",
      "output=[(x,y,str(x)+y) for x,y in zip(L1,L2)]\n",
      "\n",
      "#itterate over our output for a nicer looking print statement\n",
      "for z in output:\n",
      "    print z\n",
      "\n",
      "#we can also do this differently\n",
      "for a1,a2,a3 in output:\n",
      "    print a1,a2,a3"
     ],
     "language": "python",
     "metadata": {},
     "outputs": []
    },
    {
     "cell_type": "heading",
     "level": 3,
     "metadata": {},
     "source": [
      "IF ELSE Statements"
     ]
    },
    {
     "cell_type": "code",
     "collapsed": false,
     "input": [
      "if 1==1:\n",
      "    print 'one equals one'"
     ],
     "language": "python",
     "metadata": {},
     "outputs": []
    },
    {
     "cell_type": "code",
     "collapsed": false,
     "input": [
      "if 1<0:\n",
      "    print 'one is less than zero'\n",
      "else:\n",
      "    print '1 does not equal to 0'"
     ],
     "language": "python",
     "metadata": {},
     "outputs": []
    },
    {
     "cell_type": "code",
     "collapsed": false,
     "input": [
      "if 1<>1: #you can also use the != operator\n",
      "    print 'one does not equal to one '\n",
      "elif 1==0:\n",
      "    print '1 is equal to zero'\n",
      "else:\n",
      "    print '1 does not equal to 0'\n",
      "    \n"
     ],
     "language": "python",
     "metadata": {},
     "outputs": []
    },
    {
     "cell_type": "code",
     "collapsed": false,
     "input": [
      "if (1==1 and 0<1):\n",
      "    print 'and operator'\n",
      "    \n",
      "if (1==1 or 0==1):\n",
      "    print 'or operator'"
     ],
     "language": "python",
     "metadata": {},
     "outputs": []
    },
    {
     "cell_type": "heading",
     "level": 3,
     "metadata": {},
     "source": [
      "WHILE Statements"
     ]
    },
    {
     "cell_type": "code",
     "collapsed": false,
     "input": [
      "#counter\n",
      "i = 0\n",
      "\n",
      "#loop while i < 5\n",
      "while i < 5:\n",
      "    print i\n",
      "    \n",
      "    #increment counter\n",
      "    i = i + 1"
     ],
     "language": "python",
     "metadata": {},
     "outputs": []
    },
    {
     "cell_type": "heading",
     "level": 2,
     "metadata": {},
     "source": [
      "Functions"
     ]
    },
    {
     "cell_type": "code",
     "collapsed": false,
     "input": [
      "#define functions\n",
      "\n",
      "def SimpleAdd(Number):\n",
      "    return Number\n",
      "\n",
      "def SimpleAdd2(N1, N2):\n",
      "    return N1 + N2\n",
      "\n",
      "def SimpleAdd3(N1=2, N2=2):\n",
      "    return N1 + N2\n",
      "\n",
      "#return a 10\n",
      "print SimpleAdd(10)\n",
      "\n",
      "#return 2 + 5\n",
      "print SimpleAdd2(2,5)\n",
      "\n",
      "#return 1 + 3\n",
      "print SimpleAdd3(1,3)\n",
      "\n",
      "#use default parameters\n",
      "print SimpleAdd3()\n"
     ],
     "language": "python",
     "metadata": {},
     "outputs": []
    },
    {
     "cell_type": "heading",
     "level": 2,
     "metadata": {},
     "source": [
      "Excel"
     ]
    },
    {
     "cell_type": "code",
     "collapsed": false,
     "input": [
      "from xlwt import *"
     ],
     "language": "python",
     "metadata": {},
     "outputs": []
    },
    {
     "cell_type": "heading",
     "level": 3,
     "metadata": {},
     "source": [
      "Add an image"
     ]
    },
    {
     "cell_type": "code",
     "collapsed": false,
     "input": [
      "# Create a workbook\n",
      "wb = Workbook()\n",
      "\n",
      "# Add a sheet/tab\n",
      "ws0 = wb.add_sheet('Picture_Test')\n",
      "\n",
      "# Add picture at location (2,1)\n",
      "# Note: Only accepts bmp files\n",
      "# i.e. ws0.insert_bitmap('C:\\Users\\username\\Desktop/test.bmp', 2, 1)\n",
      "ws0.insert_bitmap('DataFiles\\\\testpic.bmp', 2, 1)\n",
      "\n",
      "# Write excel file\n",
      "# Note: This will overwrite any other files with the same name\n",
      "wb.save('AddImage.xls')"
     ],
     "language": "python",
     "metadata": {},
     "outputs": []
    },
    {
     "cell_type": "heading",
     "level": 3,
     "metadata": {},
     "source": [
      "Convert image to BMP"
     ]
    },
    {
     "cell_type": "code",
     "collapsed": false,
     "input": [
      "#convert an image file to a .bmp image file using PIL\n",
      "from PIL import Image\n",
      "\n",
      "# Convert to bmp\n",
      "def ConvertImg(file_in,file_out):\n",
      "    img = Image.open(file_in)\n",
      "\n",
      "    #print len(img.split())  # test\n",
      "    if len(img.split()) == 4:\n",
      "        # prevent IOError: cannot write mode RGBA as BMP\n",
      "        r, g, b, a = img.split()\n",
      "        img = Image.merge(\"RGB\", (r, g, b))\n",
      "        img.save(file_out)\n",
      "    else:\n",
      "        img.save(file_out)\n",
      "\n",
      "ConvertImg('DataFiles/pngInput.png', 'DataFiles/bmpOutput.bmp')"
     ],
     "language": "python",
     "metadata": {},
     "outputs": []
    },
    {
     "cell_type": "heading",
     "level": 2,
     "metadata": {},
     "source": [
      "Delete Files"
     ]
    },
    {
     "cell_type": "code",
     "collapsed": false,
     "input": [
      "import os\n",
      "\n",
      "# Delete file\n",
      "os.remove('DataFiles/bmpOutput.bmp')"
     ],
     "language": "python",
     "metadata": {},
     "outputs": []
    },
    {
     "cell_type": "heading",
     "level": 2,
     "metadata": {},
     "source": [
      "Dates"
     ]
    },
    {
     "cell_type": "code",
     "collapsed": false,
     "input": [
      "from datetime import datetime, date, time\n",
      "\n",
      "# Get today's date\n",
      "CurrentTime = datetime.now()\n",
      "CurrentTime = CurrentTime.strftime(\"%Y-%m-%d_%H-%M-%S\")\n",
      "CurrentTime"
     ],
     "language": "python",
     "metadata": {},
     "outputs": []
    },
    {
     "cell_type": "heading",
     "level": 3,
     "metadata": {},
     "source": [
      "IO"
     ]
    },
    {
     "cell_type": "heading",
     "level": 4,
     "metadata": {},
     "source": [
      "Dataframe to SQL"
     ]
    },
    {
     "cell_type": "heading",
     "level": 5,
     "metadata": {},
     "source": [
      "Import sqlalchemy"
     ]
    },
    {
     "cell_type": "code",
     "collapsed": false,
     "input": [
      "from sqlalchemy import *"
     ],
     "language": "python",
     "metadata": {},
     "outputs": []
    },
    {
     "cell_type": "code",
     "collapsed": false,
     "input": [
      "# DB Parameters\n",
      "ServerName = \"devdb4\\sql4\"\n",
      "Database = \"BizIntel\"\n",
      "\n",
      "# To create a temp table just add a \"#\" to the table name\n",
      "# To create a global table just add a \"##\" to the table name\n",
      "TableName = \"#TableCheckTest\"\n",
      "\n",
      "# pyobdc must be installed\n",
      "engine = create_engine('mssql+pyodbc://' + ServerName + '/' + Database)\n",
      "conn = engine.connect()"
     ],
     "language": "python",
     "metadata": {},
     "outputs": []
    },
    {
     "cell_type": "code",
     "collapsed": false,
     "input": [
      "# Required for querying tables\n",
      "metadata = MetaData(conn)\n",
      "\n",
      "## Create table\n",
      "tbl = Table(TableName, metadata,\n",
      "    Column('DateAdded', DateTime),\n",
      "    Column('Revenue', Integer)\n",
      ")\n",
      "\n",
      "# This actually creates a table in the sql database\n",
      "# checkfirst=True >> create if table does not exist\n",
      "tbl.create(checkfirst=True)"
     ],
     "language": "python",
     "metadata": {},
     "outputs": []
    },
    {
     "cell_type": "code",
     "collapsed": false,
     "input": [
      "# Create data to insert into table\n",
      "# Create a dataframe with dates as your index\n",
      "data = [1,2,3,4,5,6,7,8,9,10]\n",
      "idx = date_range('1/1/2012', periods=10, freq='MS')\n",
      "df = DataFrame(data, index=idx, columns=['Revenue'])\n",
      "\n",
      "# Remove the index if you want to include it in the insert\n",
      "df = df.reset_index()\n",
      "#print df"
     ],
     "language": "python",
     "metadata": {},
     "outputs": []
    },
    {
     "cell_type": "code",
     "collapsed": false,
     "input": [
      "# Iterate through each of the columns and insert into table\n",
      "for x in df.iterrows():\n",
      "    #print list(x[1])\n",
      "    sql = tbl.insert(list(x[1]))\n",
      "    conn.execute(sql)\n",
      "\n",
      "# select all form table\n",
      "sql = tbl.select()\n",
      "result = conn.execute(sql)\n",
      "for row in result:\n",
      "    print 'Write to SQL', row"
     ],
     "language": "python",
     "metadata": {},
     "outputs": []
    },
    {
     "cell_type": "heading",
     "level": 4,
     "metadata": {},
     "source": [
      "SQL to Dataframe"
     ]
    },
    {
     "cell_type": "code",
     "collapsed": false,
     "input": [
      "# Select all\n",
      "sql = tbl.select()\n",
      "\n",
      "# run sql code\n",
      "result = conn.execute(sql)"
     ],
     "language": "python",
     "metadata": {},
     "outputs": []
    },
    {
     "cell_type": "code",
     "collapsed": false,
     "input": [
      "# Insert to a dataframe\n",
      "df2 = DataFrame(data=list(result), columns=result.keys())\n",
      "\n",
      "# Convert data types \n",
      "df2.DateAdded = df2.DateAdded.astype('datetime64')\n",
      "df2.Revenue = df2.Revenue.astype('int')\n",
      "print ' '\n",
      "print 'Data Types'\n",
      "print df2.dtypes\n",
      "\n",
      "# Set index to dataframe\n",
      "df2 = df2.set_index('DateAdded')\n",
      "print ' '\n",
      "print 'Read from SQL', df2\n",
      "#print df2.head().to_string()\n",
      "\n",
      "# Close connection\n",
      "conn.close()"
     ],
     "language": "python",
     "metadata": {},
     "outputs": []
    },
    {
     "cell_type": "heading",
     "level": 4,
     "metadata": {},
     "source": [
      "Clipboard to Dataframe"
     ]
    },
    {
     "cell_type": "code",
     "collapsed": false,
     "input": [
      "# Copy paste data into a dataframe\n",
      "# Make sure you first copy data before running the code\n",
      "\n",
      "# This example assumes you are copying data with the first column composed of dates\n",
      "# index_col=0, means the date column is in the first column\n",
      "# parse_dates=True, makes sure dates are converted to datetime datatypes\n",
      "df = read_clipboard(index_col=0,parse_dates=True)\n",
      "df\n",
      "\n",
      "# This has worked for me in SQL, Excel, and LibreOffice"
     ],
     "language": "python",
     "metadata": {},
     "outputs": []
    },
    {
     "cell_type": "heading",
     "level": 4,
     "metadata": {},
     "source": [
      "Dataframe to Excel"
     ]
    },
    {
     "cell_type": "code",
     "collapsed": false,
     "input": [
      "# Export dataframe to Excel\n",
      "# you can export to both .xls and .xlsx\n",
      "df.to_excel('dfToExcel.xls','Sheet Name')"
     ],
     "language": "python",
     "metadata": {},
     "outputs": []
    },
    {
     "cell_type": "heading",
     "level": 4,
     "metadata": {},
     "source": [
      "Dataframe to Excel (alternate)"
     ]
    },
    {
     "cell_type": "code",
     "collapsed": false,
     "input": [
      "# Import packages\n",
      "from xlwt import *\n",
      "from pandas import *\n",
      "import numpy as np"
     ],
     "language": "python",
     "metadata": {},
     "outputs": []
    },
    {
     "cell_type": "code",
     "collapsed": false,
     "input": [
      "# Create a dataframe with dates as your index\n",
      "data = [1,2,3,4,5,6,7,8,9,10]\n",
      "idx = date_range('1/1/2012', periods=10, freq='MS')\n",
      "df = DataFrame(data, index=idx, columns=['Revenue'])\n",
      "df"
     ],
     "language": "python",
     "metadata": {},
     "outputs": []
    },
    {
     "cell_type": "code",
     "collapsed": false,
     "input": [
      "# Create a workbook\n",
      "wb = Workbook()\n",
      "\n",
      "# Add a sheet/tab\n",
      "ws0 = wb.add_sheet('DataFrame_Test')"
     ],
     "language": "python",
     "metadata": {},
     "outputs": []
    },
    {
     "cell_type": "code",
     "collapsed": false,
     "input": [
      "# Write dataframe\n",
      "\n",
      "# formatting values in excel\n",
      "date_xf = easyxf(num_format_str='DD/MM/YYYY') # sets date format in Excel\n",
      "num_xf = easyxf(num_format_str='#0.000000') # sets date format in Excel\n",
      "\n",
      "# Iterate through each of the columns and insert into sheet\n",
      "for i, (date, row) in enumerate(df.T.iteritems()):\n",
      "    #print i, date, row[0],type(row[0]).__name__\n",
      "\n",
      "    # Skip first line\n",
      "    if i > 0:\n",
      "        if type(date).__name__ == 'Timestamp':\n",
      "            ws0.write(i,0,date,date_xf)\n",
      "        elif type(date).__name__ == 'str':\n",
      "            ws0.write(i,0,date)\n",
      "        else:\n",
      "            ws0.write(i,0,date.astype(np.float),num_xf)\n",
      "        if type(row[0]).__name__ == 'Timestamp':\n",
      "            ws0.write(i,1,row[0].astype(np.float),date_xf)\n",
      "        elif type(row[0]).__name__ == 'str':\n",
      "            ws0.write(i,1,row[0].astype(np.float))\n",
      "        else:\n",
      "            ws0.write(i,1,row[0].astype(np.float),num_xf)"
     ],
     "language": "python",
     "metadata": {},
     "outputs": []
    },
    {
     "cell_type": "code",
     "collapsed": false,
     "input": [
      "# Remove the index if you want to include it in the insert\n",
      "df = df.reset_index()\n",
      "\n",
      "# Rename columns\n",
      "df.columns = ['DateAdded', 'Revenue']\n",
      "\n",
      "# Add column Headers\n",
      "for i, cols in enumerate(df.columns):\n",
      "    #print i, cols\n",
      "    ws0.write(0,i,cols)"
     ],
     "language": "python",
     "metadata": {},
     "outputs": []
    },
    {
     "cell_type": "code",
     "collapsed": false,
     "input": [
      "# Write excel file\n",
      "# Note: This will overwrite any other files with the same name\n",
      "wb.save('DFtoExcel.xls')"
     ],
     "language": "python",
     "metadata": {},
     "outputs": []
    },
    {
     "cell_type": "heading",
     "level": 2,
     "metadata": {},
     "source": [
      "Matplotlib"
     ]
    },
    {
     "cell_type": "code",
     "collapsed": false,
     "input": [
      "#import statement (automatic in pylab)\n",
      "import matplotlib.pyplot as plt"
     ],
     "language": "python",
     "metadata": {},
     "outputs": []
    },
    {
     "cell_type": "code",
     "collapsed": false,
     "input": [
      "#make some data\n",
      "x=linspace(1,50,100) # linspace(start,end,num_points) \n",
      "y=np.sin(x)\n",
      "\n",
      "#a line graph:\n",
      "plot(x,y)"
     ],
     "language": "python",
     "metadata": {},
     "outputs": []
    },
    {
     "cell_type": "code",
     "collapsed": false,
     "input": [
      "#a scatter plot\n",
      "scatter(x,y)"
     ],
     "language": "python",
     "metadata": {},
     "outputs": []
    },
    {
     "cell_type": "code",
     "collapsed": false,
     "input": [
      "#another way to make a scatter plot\n",
      "plot(x,y,'x')"
     ],
     "language": "python",
     "metadata": {},
     "outputs": []
    },
    {
     "cell_type": "code",
     "collapsed": false,
     "input": [
      "#by default all the plots go into the same figure. we can make a new figure by calling figure()\n",
      "#we can also get a refrence to the figure\n",
      "\n",
      "#WITHOUT calling figure()\n",
      "\n",
      "#a line graph:\n",
      "plot(x,y)\n",
      "\n",
      "#a scatter plot\n",
      "scatter(x,y)\n"
     ],
     "language": "python",
     "metadata": {},
     "outputs": []
    },
    {
     "cell_type": "code",
     "collapsed": false,
     "input": [
      "#calling figure()\n",
      "\n",
      "#a line graph:\n",
      "plot(x,y)\n",
      "\n",
      "fig=figure()\n",
      "\n",
      "#a scatter plot\n",
      "scatter(x,y)"
     ],
     "language": "python",
     "metadata": {},
     "outputs": []
    },
    {
     "cell_type": "code",
     "collapsed": false,
     "input": [
      "#plot the data, show data points as x's, connect them with a line, make it red and kinda see through\n",
      "#name the data\n",
      "plt.plot(x,y, 'x-', color='red', alpha=.5, label='the data')\n",
      "\n",
      "#add a title\n",
      "plt.title('The Title')\n",
      "\n",
      "#name the axis\n",
      "xlabel('x axis label')\n",
      "ylabel('y axis label')\n",
      "\n",
      "#the legend\n",
      "plt.legend(loc='best') #loc = 'best' tries to make the legend not overlap the data\n",
      "\n",
      "#turn a grid on\n",
      "plt.grid()\n",
      "\n",
      "#save the figure as an image\n",
      "#this will create a \".png\" file in the file location you run the code in \n",
      "plt.savefig('test_fig.png')"
     ],
     "language": "python",
     "metadata": {},
     "outputs": []
    },
    {
     "cell_type": "code",
     "collapsed": false,
     "input": [
      "#subplots and multiple lines\n",
      "\n",
      "t=linspace(1,100,100)\n",
      "x1=np.sin(20./(2*pi) * t)\n",
      "x2=np.sin(40./(2*pi)*t)\n",
      "x3=x1+x2\n",
      "\n",
      "figure()\n",
      "subplot(2,1,1)\n",
      "plot(t,x1,label='x1')\n",
      "plot(t,x2,label='x2')\n",
      "plot(t,x3,label='x3')\n",
      "legend(loc='best')\n",
      "\n",
      "subplot(2,1,2)\n",
      "#plot a histogram\n",
      "#we save the histogram data but it is not needed to do so for plotting purposes\n",
      "x1hist=hist(x1,normed='true', bins=25, alpha=.25,label='x1')\n",
      "legend(loc='best')"
     ],
     "language": "python",
     "metadata": {},
     "outputs": []
    },
    {
     "cell_type": "code",
     "collapsed": false,
     "input": [
      "#more histograms\n",
      "x1=np.random.randn(1000)\n",
      "x2=2.0*np.random.randn(1000)+2\n",
      "\n",
      "x1h=hist(x1,bins=50,alpha=.25)\n",
      "x2h=hist(x2,bins=50,alpha=.25)"
     ],
     "language": "python",
     "metadata": {},
     "outputs": []
    },
    {
     "cell_type": "heading",
     "level": 2,
     "metadata": {},
     "source": [
      "BaseMap"
     ]
    },
    {
     "cell_type": "code",
     "collapsed": false,
     "input": [
      "from mpl_toolkits.basemap import Basemap\n",
      "import matplotlib.pyplot as plt"
     ],
     "language": "python",
     "metadata": {},
     "outputs": []
    },
    {
     "cell_type": "code",
     "collapsed": false,
     "input": [
      "#setup the projection\n",
      "m = Basemap(projection='merc',llcrnrlat=20,urcrnrlat=50,\\\n",
      "                llcrnrlon=-130,urcrnrlon=-60,lat_ts=20,resolution='i')"
     ],
     "language": "python",
     "metadata": {},
     "outputs": []
    },
    {
     "cell_type": "code",
     "collapsed": false,
     "input": [
      "#create some points to plot\n",
      "#provided is a csv file with the lat/long of US states\n",
      "import pandas as pd\n",
      "from pandas import DataFrame\n",
      "data=pd.read_csv('DataFiles\\\\usa_lat_long.csv') #it has some duplicates\n",
      "data.head()"
     ],
     "language": "python",
     "metadata": {},
     "outputs": []
    },
    {
     "cell_type": "code",
     "collapsed": false,
     "input": [
      "#I just want the lat/long in a list\n",
      "points=data[['longitude','latitude']].values"
     ],
     "language": "python",
     "metadata": {},
     "outputs": []
    },
    {
     "cell_type": "code",
     "collapsed": false,
     "input": [
      "#transform the points into map coordinates\n",
      "transform_points=[m(lng, lat) for lng, lat in points]"
     ],
     "language": "python",
     "metadata": {},
     "outputs": []
    },
    {
     "cell_type": "code",
     "collapsed": false,
     "input": [
      "#do all the drawing:\n",
      "fig=figure(figsize=(10,10)) #make a larger than default image\n",
      "fig.add_subplot(1,1,1) #not strictly required\n",
      "\n",
      "m.drawmapboundary(fill_color='white')\n",
      "m.fillcontinents(color='white',lake_color='white')\n",
      "m.drawcoastlines(color='black', linewidth=.3)\n",
      "m.drawcountries(color='black', linewidth=.3)\n",
      "m.drawstates(color='black', linewidth=.3)\n",
      "\n",
      "#plot the points on the  map. These are just regular calls to matplotlib with x,y data\n",
      "#you could also do this in one shot by using plot(xlist, ylist...)\n",
      "#or using scatter(). \n",
      "for x,y in transform_points:\n",
      "    plot(x,y,'o',color='red',ms=10*rand()) #plot them at random sizes\n",
      "\n",
      "#we can plot some labels\n",
      "text(transform_points[7][0],transform_points[7][1],'California',fontsize=15)\n",
      "text(transform_points[12][0],transform_points[12][1],'Florida',fontsize=15)\n",
      "\n",
      "#draw some great circles\n",
      "lng1,lat1 =points[12]\n",
      "lng2,lat2 =points[7]\n",
      "m.drawgreatcircle(lng1,lat1,lng2,lat2,linewidth=3,color='blue',alpha=.5)"
     ],
     "language": "python",
     "metadata": {},
     "outputs": []
    },
    {
     "cell_type": "heading",
     "level": 2,
     "metadata": {},
     "source": [
      "Scipy Solver"
     ]
    },
    {
     "cell_type": "code",
     "collapsed": false,
     "input": [
      "# Objective Function\n",
      "#Max C = 2x + 3y\n",
      "\n",
      "# Constraints\n",
      "#2x+y<=15\n",
      "#x+3y<=20\n",
      "#x>=0\n",
      "#y>=0\n",
      "\n",
      "# Solution\n",
      "#(5,5)\n"
     ],
     "language": "python",
     "metadata": {},
     "outputs": []
    },
    {
     "cell_type": "code",
     "collapsed": false,
     "input": [
      "from scipy.optimize import minimize"
     ],
     "language": "python",
     "metadata": {},
     "outputs": []
    },
    {
     "cell_type": "code",
     "collapsed": false,
     "input": [
      "# Since the objective is to maximize C, we\n",
      "# multiple the objective function by -1\n",
      "\n",
      "# x[0] equals x\n",
      "# x[1] equals y\n",
      "\n",
      "## Objective Function\n",
      "fun = lambda x: -1*(2*x[0] + 3*x[1])"
     ],
     "language": "python",
     "metadata": {},
     "outputs": []
    },
    {
     "cell_type": "code",
     "collapsed": false,
     "input": [
      "# Equality constraint are defined as follows:\n",
      "# This is not in the correct format: x = -2\n",
      "# Equation has to always be equal to zero: x + 2 = 0\n",
      "# i.e. {'type': 'eq', 'fun': lambda x: x[0] + 2}\n",
      "\n",
      "#-------------------------------------------------------------\n",
      "\n",
      "# Inequality contraints are defined as follows:\n",
      "# This is not in the correct format: 2x+y<=15\n",
      "# Equation has to always be greater than or equal to zero: 0 <= 15 + -2x + -y \n",
      "\n",
      "## Contraints\n",
      "cons = ({'type': 'ineq', 'fun': lambda x:  15 + -2*x[0] + -1*x[1]}, #15-2x-y>=0\n",
      "         {'type': 'ineq', 'fun': lambda x: 20 + -1*x[0] + -3*x[1]}, #20-x-3y\n",
      "         {'type': 'ineq', 'fun': lambda x: x[0]}, #x>=0\n",
      "         {'type': 'ineq', 'fun': lambda x: x[1]}) #y>=0"
     ],
     "language": "python",
     "metadata": {},
     "outputs": []
    },
    {
     "cell_type": "code",
     "collapsed": false,
     "input": [
      "# STILL NOT SURE WHAT THIS MEANS\n",
      "\n",
      "## Bounds\n",
      "bnds = ((None, None), (None, None))"
     ],
     "language": "python",
     "metadata": {},
     "outputs": []
    },
    {
     "cell_type": "code",
     "collapsed": false,
     "input": [
      "## Solver\n",
      "#   = minimize(Objective Function, Initial Guess, Solver to use, Bounds, Constraints)\n",
      "res = minimize(fun, (0, 0), method='SLSQP', bounds=bnds, constraints=cons)\n",
      "res\n",
      "\n",
      "# solution is in res.x"
     ],
     "language": "python",
     "metadata": {},
     "outputs": []
    },
    {
     "cell_type": "heading",
     "level": 2,
     "metadata": {},
     "source": [
      "SQLAlchemy"
     ]
    },
    {
     "cell_type": "code",
     "collapsed": false,
     "input": [
      "from sqlalchemy import *"
     ],
     "language": "python",
     "metadata": {},
     "outputs": []
    },
    {
     "cell_type": "heading",
     "level": 3,
     "metadata": {},
     "source": [
      "Connecting"
     ]
    },
    {
     "cell_type": "code",
     "collapsed": false,
     "input": [
      "# Parameters\n",
      "ServerName = \"Type Server Name Here\"\n",
      "Database = \"Type database name here\"\n",
      "TableName = \"Type table name here\"\n",
      "\n",
      "# Note: pyobdc must be installed\n",
      "engine = create_engine('mssql+pyodbc://' + ServerName + '/' + Database)\n",
      "conn = engine.connect()"
     ],
     "language": "python",
     "metadata": {},
     "outputs": []
    },
    {
     "cell_type": "heading",
     "level": 3,
     "metadata": {},
     "source": [
      "SELECT Statements"
     ]
    },
    {
     "cell_type": "code",
     "collapsed": false,
     "input": [
      "# Required for querying tables\n",
      "metadata = MetaData(conn)\n",
      "\n",
      "# Table to query\n",
      "tbl = Table(TableName, metadata, autoload=True, schema=\"dbo\")\n",
      "\n",
      "# select all where \n",
      "sql = select(tbl.c.Column1 == 'Type value to match')\n",
      "\n",
      "# select specific columns\n",
      "sql = select([tbl.c.Column1, tbl.c.Column2, tbl.c.Column3])\n",
      "\n",
      "# select top N\n",
      "sql = select([tbl.c.Column1, tbl.c.Column2, tbl.c.Column3],limit=10)\n",
      "\n",
      "# select specific column and a where clause\n",
      "sql = select([tbl.c.Column1], tbl.c.Column1 == 'Type value to match')\n",
      "\n",
      "# and, or, not, in\n",
      "sql = select([tbl], and_(tbl.c.Column1 < 4, tbl.c.Column1 != 1))\n",
      "sql = select([tbl], or_(tbl.c.Column1 < 4, tbl.c.Column1 != 1))\n",
      "sql = select([tbl], not_(tbl.c.Column1 > 4))\n",
      "sql = select([tbl], tbl.c.Column1.in_( (1,4) ))\n",
      "\n",
      "# like, between\n",
      "sql = select([tbl], tbl.c.Column1.startswith('M'))\n",
      "sql = select([tbl], tbl.c.Column1.like('%a%'))\n",
      "sql = select([tbl], tbl.c.Column1.endswith('n'))\n",
      "sql = select([tbl], tbl.c.Column1.between(30,39),limit=10)\n",
      "\n",
      "result = conn.execute(sql)\n",
      "for row in result:\n",
      "    print row\n",
      "\n",
      "# Close connection\n",
      "conn.close()"
     ],
     "language": "python",
     "metadata": {},
     "outputs": []
    },
    {
     "cell_type": "heading",
     "level": 2,
     "metadata": {},
     "source": [
      "IPython NoteBook"
     ]
    },
    {
     "cell_type": "code",
     "collapsed": false,
     "input": [
      "# Import related packages\n",
      "from IPython.display import YouTubeVideo,HTML,Image"
     ],
     "language": "python",
     "metadata": {},
     "outputs": []
    },
    {
     "cell_type": "code",
     "collapsed": false,
     "input": [
      "# Embed Videos\n",
      "YouTubeVideo('BHEr1dBc0yM');"
     ],
     "language": "python",
     "metadata": {},
     "outputs": []
    },
    {
     "cell_type": "code",
     "collapsed": false,
     "input": [
      "# Embed WebPages\n",
      "HTML('<iframe src=http://m.bing.com/ width=700 height=350></iframe>');"
     ],
     "language": "python",
     "metadata": {},
     "outputs": []
    },
    {
     "cell_type": "code",
     "collapsed": false,
     "input": [
      "# Embed Images\n",
      "Image(filename='DataFiles\\infiniteenergy.jpg');"
     ],
     "language": "python",
     "metadata": {},
     "outputs": []
    },
    {
     "cell_type": "code",
     "collapsed": false,
     "input": [],
     "language": "python",
     "metadata": {},
     "outputs": []
    }
   ],
   "metadata": {}
  }
 ]
}